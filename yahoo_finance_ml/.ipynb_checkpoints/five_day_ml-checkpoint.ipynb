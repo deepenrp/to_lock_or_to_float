{
 "cells": [
  {
   "cell_type": "code",
   "execution_count": 36,
   "id": "57f82b1e",
   "metadata": {},
   "outputs": [],
   "source": [
    "import pandas as pd\n",
    "import numpy as np\n",
    "import matplotlib.pyplot as plt\n",
    "import math\n",
    "import scipy.stats as stats\n",
    "import json\n",
    "import requests\n",
    "from functools import reduce\n",
    "\n",
    "from functools import reduce\n",
    "import yfinance as yf\n",
    "\n",
    "import datetime as dt\n",
    "from datetime import datetime, date, time, timedelta\n",
    "from dateutil.relativedelta import relativedelta\n",
    "\n",
    "# Import PlotLy Dependencies\n",
    "import plotly.graph_objects as go\n",
    "from plotly.subplots import make_subplots\n",
    "import plotly.express as px"
   ]
  },
  {
   "cell_type": "code",
   "execution_count": 39,
   "id": "fa7c1bef",
   "metadata": {},
   "outputs": [
    {
     "name": "stdout",
     "output_type": "stream",
     "text": [
      "[*********************100%%**********************]  1 of 1 completed\n",
      "[*********************100%%**********************]  1 of 1 completed\n",
      "[*********************100%%**********************]  1 of 1 completed\n",
      "[*********************100%%**********************]  1 of 1 completed\n",
      "[*********************100%%**********************]  1 of 1 completed\n",
      "[*********************100%%**********************]  1 of 1 completed\n",
      "Stored 'one_day_X' (ndarray)\n",
      "Stored 'one_day_y' (ndarray)\n",
      "Stored 'five_day_X' (ndarray)\n",
      "Stored 'five_day_y' (ndarray)\n",
      "Stored 'ten_day_X' (ndarray)\n",
      "Stored 'ten_day_y' (ndarray)\n",
      "Stored 'thirty_day_X' (ndarray)\n",
      "Stored 'thirty_day_y' (ndarray)\n",
      "Stored 'rate_forecast_df' (DataFrame)\n"
     ]
    }
   ],
   "source": [
    "# Run this for data source functions\n",
    "%run yahoo_finance_data.ipynb"
   ]
  },
  {
   "cell_type": "code",
   "execution_count": 71,
   "id": "aa811df8",
   "metadata": {},
   "outputs": [
    {
     "data": {
      "text/html": [
       "<div>\n",
       "<style scoped>\n",
       "    .dataframe tbody tr th:only-of-type {\n",
       "        vertical-align: middle;\n",
       "    }\n",
       "\n",
       "    .dataframe tbody tr th {\n",
       "        vertical-align: top;\n",
       "    }\n",
       "\n",
       "    .dataframe thead th {\n",
       "        text-align: right;\n",
       "    }\n",
       "</style>\n",
       "<table border=\"1\" class=\"dataframe\">\n",
       "  <thead>\n",
       "    <tr style=\"text-align: right;\">\n",
       "      <th></th>\n",
       "      <th>Date</th>\n",
       "      <th>Mortgage Backed Securities Adj Close</th>\n",
       "      <th>20+ Yr Treasuries Adj Close</th>\n",
       "      <th>7-10 Yr Treasuries Adj Close</th>\n",
       "      <th>Gold Adj Close</th>\n",
       "      <th>Volatility Index Adj Close</th>\n",
       "      <th>10-Yr Treasury Yield Adj Close</th>\n",
       "    </tr>\n",
       "  </thead>\n",
       "  <tbody>\n",
       "    <tr>\n",
       "      <th>count</th>\n",
       "      <td>4217</td>\n",
       "      <td>4217.000000</td>\n",
       "      <td>4217.000000</td>\n",
       "      <td>4217.000000</td>\n",
       "      <td>4217.000000</td>\n",
       "      <td>4217.000000</td>\n",
       "      <td>4217.000000</td>\n",
       "    </tr>\n",
       "    <tr>\n",
       "      <th>mean</th>\n",
       "      <td>2015-08-01 05:48:38.757410304</td>\n",
       "      <td>86.293349</td>\n",
       "      <td>96.212480</td>\n",
       "      <td>87.823495</td>\n",
       "      <td>131.783537</td>\n",
       "      <td>20.218945</td>\n",
       "      <td>2.603222</td>\n",
       "    </tr>\n",
       "    <tr>\n",
       "      <th>min</th>\n",
       "      <td>2007-03-16 00:00:00</td>\n",
       "      <td>61.547028</td>\n",
       "      <td>50.759277</td>\n",
       "      <td>54.144058</td>\n",
       "      <td>63.619999</td>\n",
       "      <td>9.140000</td>\n",
       "      <td>0.499000</td>\n",
       "    </tr>\n",
       "    <tr>\n",
       "      <th>25%</th>\n",
       "      <td>2011-05-23 00:00:00</td>\n",
       "      <td>80.236115</td>\n",
       "      <td>74.019814</td>\n",
       "      <td>76.649078</td>\n",
       "      <td>113.809998</td>\n",
       "      <td>14.020000</td>\n",
       "      <td>1.890000</td>\n",
       "    </tr>\n",
       "    <tr>\n",
       "      <th>50%</th>\n",
       "      <td>2015-07-31 00:00:00</td>\n",
       "      <td>88.702477</td>\n",
       "      <td>97.742813</td>\n",
       "      <td>90.989449</td>\n",
       "      <td>125.419998</td>\n",
       "      <td>17.850000</td>\n",
       "      <td>2.505000</td>\n",
       "    </tr>\n",
       "    <tr>\n",
       "      <th>75%</th>\n",
       "      <td>2019-10-10 00:00:00</td>\n",
       "      <td>92.228058</td>\n",
       "      <td>109.226608</td>\n",
       "      <td>96.102219</td>\n",
       "      <td>161.490005</td>\n",
       "      <td>23.430000</td>\n",
       "      <td>3.334000</td>\n",
       "    </tr>\n",
       "    <tr>\n",
       "      <th>max</th>\n",
       "      <td>2023-12-18 00:00:00</td>\n",
       "      <td>103.252098</td>\n",
       "      <td>158.691483</td>\n",
       "      <td>115.944794</td>\n",
       "      <td>193.889999</td>\n",
       "      <td>82.690002</td>\n",
       "      <td>5.248000</td>\n",
       "    </tr>\n",
       "    <tr>\n",
       "      <th>std</th>\n",
       "      <td>NaN</td>\n",
       "      <td>10.571895</td>\n",
       "      <td>25.529456</td>\n",
       "      <td>14.914123</td>\n",
       "      <td>31.108741</td>\n",
       "      <td>9.138440</td>\n",
       "      <td>0.969280</td>\n",
       "    </tr>\n",
       "  </tbody>\n",
       "</table>\n",
       "</div>"
      ],
      "text/plain": [
       "                                Date  Mortgage Backed Securities Adj Close  \\\n",
       "count                           4217                           4217.000000   \n",
       "mean   2015-08-01 05:48:38.757410304                             86.293349   \n",
       "min              2007-03-16 00:00:00                             61.547028   \n",
       "25%              2011-05-23 00:00:00                             80.236115   \n",
       "50%              2015-07-31 00:00:00                             88.702477   \n",
       "75%              2019-10-10 00:00:00                             92.228058   \n",
       "max              2023-12-18 00:00:00                            103.252098   \n",
       "std                              NaN                             10.571895   \n",
       "\n",
       "       20+ Yr Treasuries Adj Close  7-10 Yr Treasuries Adj Close  \\\n",
       "count                  4217.000000                   4217.000000   \n",
       "mean                     96.212480                     87.823495   \n",
       "min                      50.759277                     54.144058   \n",
       "25%                      74.019814                     76.649078   \n",
       "50%                      97.742813                     90.989449   \n",
       "75%                     109.226608                     96.102219   \n",
       "max                     158.691483                    115.944794   \n",
       "std                      25.529456                     14.914123   \n",
       "\n",
       "       Gold Adj Close  Volatility Index Adj Close  \\\n",
       "count     4217.000000                 4217.000000   \n",
       "mean       131.783537                   20.218945   \n",
       "min         63.619999                    9.140000   \n",
       "25%        113.809998                   14.020000   \n",
       "50%        125.419998                   17.850000   \n",
       "75%        161.490005                   23.430000   \n",
       "max        193.889999                   82.690002   \n",
       "std         31.108741                    9.138440   \n",
       "\n",
       "       10-Yr Treasury Yield Adj Close  \n",
       "count                     4217.000000  \n",
       "mean                         2.603222  \n",
       "min                          0.499000  \n",
       "25%                          1.890000  \n",
       "50%                          2.505000  \n",
       "75%                          3.334000  \n",
       "max                          5.248000  \n",
       "std                          0.969280  "
      ]
     },
     "execution_count": 71,
     "metadata": {},
     "output_type": "execute_result"
    }
   ],
   "source": [
    "rate_forecast_df.describe()"
   ]
  },
  {
   "cell_type": "code",
   "execution_count": 76,
   "id": "0d7d2767",
   "metadata": {},
   "outputs": [
    {
     "data": {
      "image/png": "[encoded data removed]",
      "text/plain": [
       "<Figure size 640x480 with 1 Axes>"
      ]
     },
     "metadata": {},
     "output_type": "display_data"
    }
   ],
   "source": [
    "import scipy.stats\n",
    "import pylab\n",
    "\n",
    "scipy.stats.probplot(rate_forecast_df[\"10-Yr Treasury Yield Adj Close\"], plot = pylab)\n",
    "plt.title(\"QQ Plot\", size = 24)\n",
    "pylab.show()"
   ]
  },
  {
   "cell_type": "code",
   "execution_count": null,
   "id": "39add183",
   "metadata": {},
   "outputs": [],
   "source": []
  },
  {
   "cell_type": "code",
   "execution_count": 44,
   "id": "97a65610",
   "metadata": {},
   "outputs": [
    {
     "data": {
      "text/plain": [
       "array([[ 62.71498108,  54.76104736,  56.17737961,  64.62000275,\n",
       "         16.79000092],\n",
       "       [ 62.71498108,  54.64527512,  56.10346222,  64.73999786,\n",
       "         14.59000015],\n",
       "       [ 62.78956985,  54.67573166,  56.18414688,  65.26999664,\n",
       "         13.27000046],\n",
       "       ...,\n",
       "       [ 91.68752289,  95.01387787,  94.28094482, 188.1499939 ,\n",
       "         13.06000042],\n",
       "       [ 91.30865479,  94.23638916,  93.67274475, 185.63999939,\n",
       "         12.35000038],\n",
       "       [ 91.34854126,  94.03702545,  93.682724  , 183.58999634,\n",
       "         12.63000011]])"
      ]
     },
     "execution_count": 44,
     "metadata": {},
     "output_type": "execute_result"
    }
   ],
   "source": [
    "five_day_X = rate_forecast_df.iloc[:-5, 1:-5].values\n",
    "five_day_X"
   ]
  },
  {
   "cell_type": "code",
   "execution_count": 60,
   "id": "a56f464c",
   "metadata": {},
   "outputs": [],
   "source": [
    "# rate_forecast_df.head()"
   ]
  },
  {
   "cell_type": "code",
   "execution_count": 63,
   "id": "5ffa95a4",
   "metadata": {},
   "outputs": [
    {
     "data": {
      "text/plain": [
       "array([[4.61299991607666],\n",
       "       [4.586999893188477],\n",
       "       [4.611999988555908],\n",
       "       ...,\n",
       "       [3.930000066757202],\n",
       "       [3.927999973297119],\n",
       "       [3.952000141143799]], dtype=object)"
      ]
     },
     "execution_count": 63,
     "metadata": {},
     "output_type": "execute_result"
    }
   ],
   "source": [
    "five_day_y = rate_forecast_df.iloc[:-5, 8:9].values\n",
    "five_day_y"
   ]
  },
  {
   "cell_type": "markdown",
   "id": "68f5fe65",
   "metadata": {},
   "source": [
    "### Linear Regression"
   ]
  },
  {
   "cell_type": "code",
   "execution_count": 64,
   "id": "8dca2902",
   "metadata": {},
   "outputs": [],
   "source": [
    "# Split data into Train/Test Data. 80% of it will be used for \"training\" the model. The other 20% will be used for testing.\n",
    "X_train = five_day_X[:80]\n",
    "X_test = five_day_X[80:]\n",
    "\n",
    "y_train = five_day_y[:80]\n",
    "y_test = five_day_y[80:]"
   ]
  },
  {
   "cell_type": "code",
   "execution_count": 65,
   "id": "20914f26",
   "metadata": {},
   "outputs": [
    {
     "data": {
      "text/plain": [
       "array([[5.010000228881836],\n",
       "       [5.0279998779296875],\n",
       "       [4.955999851226807],\n",
       "       ...,\n",
       "       [3.930000066757202],\n",
       "       [3.927999973297119],\n",
       "       [3.952000141143799]], dtype=object)"
      ]
     },
     "execution_count": 65,
     "metadata": {},
     "output_type": "execute_result"
    }
   ],
   "source": [
    "y_test"
   ]
  },
  {
   "cell_type": "code",
   "execution_count": 66,
   "id": "4443908b",
   "metadata": {},
   "outputs": [],
   "source": [
    "from sklearn.preprocessing import StandardScaler\n",
    "\n",
    "X_scaler = StandardScaler().fit(X_train)\n",
    "y_scaler = StandardScaler().fit(y_train)\n",
    "\n",
    "X_train_scaled = X_scaler.transform(X_train)\n",
    "X_test_scaled = X_scaler.transform(X_test)\n",
    "y_train_scaled = y_scaler.transform(y_train)\n",
    "y_test_scaled = y_scaler.transform(y_test)"
   ]
  },
  {
   "cell_type": "code",
   "execution_count": 67,
   "id": "03ed87af",
   "metadata": {},
   "outputs": [
    {
     "name": "stdout",
     "output_type": "stream",
     "text": [
      "R2 Score: -69.88244460991186\n"
     ]
    }
   ],
   "source": [
    "from sklearn.linear_model import LinearRegression\n",
    "model = LinearRegression()\n",
    "\n",
    "# Fitting our model with all of our features in X\n",
    "model.fit(X_train_scaled, y_train_scaled)\n",
    "\n",
    "score = model.score(X_test_scaled, y_test_scaled)\n",
    "print(f\"R2 Score: {score}\")"
   ]
  },
  {
   "cell_type": "code",
   "execution_count": 68,
   "id": "b4caa002",
   "metadata": {},
   "outputs": [
    {
     "name": "stdout",
     "output_type": "stream",
     "text": [
      "Weight coefficients:  [[ 1.05720936  0.38146345 -2.0969245  -0.17921294  0.14194647]]\n",
      "y-axis intercept:  [1.11122281e-14]\n"
     ]
    }
   ],
   "source": [
    "print('Weight coefficients: ', model.coef_)\n",
    "print('y-axis intercept: ', model.intercept_) "
   ]
  },
  {
   "cell_type": "code",
   "execution_count": 69,
   "id": "a1a757b0",
   "metadata": {},
   "outputs": [
    {
     "data": {
      "image/png": "[encoded data removed]",
      "text/plain": [
       "<Figure size 640x480 with 1 Axes>"
      ]
     },
     "metadata": {},
     "output_type": "display_data"
    }
   ],
   "source": [
    "predictions = model.predict(X_test_scaled)\n",
    "# Plot Residuals\n",
    "plt.scatter(predictions, predictions - y_test)\n",
    "plt.hlines(y=0, xmin=predictions.min(), xmax=predictions.max())\n",
    "plt.show()"
   ]
  },
  {
   "cell_type": "code",
   "execution_count": 70,
   "id": "447eedad",
   "metadata": {},
   "outputs": [
    {
     "ename": "ValueError",
     "evalue": "X has 7 features, but StandardScaler is expecting 5 features as input.",
     "output_type": "error",
     "traceback": [
      "\u001b[1;31m---------------------------------------------------------------------------\u001b[0m",
      "\u001b[1;31mValueError\u001b[0m                                Traceback (most recent call last)",
      "Cell \u001b[1;32mIn[70], line 4\u001b[0m\n\u001b[0;32m      1\u001b[0m \u001b[38;5;66;03m# Actual value = 3.96 as of 12/18/2023\u001b[39;00m\n\u001b[0;32m      2\u001b[0m new_data \u001b[38;5;241m=\u001b[39m [[\u001b[38;5;241m91.348541\u001b[39m, \u001b[38;5;241m94.037025\u001b[39m, \u001b[38;5;241m93.682724\u001b[39m, \u001b[38;5;241m460.124451\u001b[39m, \u001b[38;5;241m363.876282\u001b[39m, \u001b[38;5;241m183.589996\u001b[39m, \u001b[38;5;241m12.630000\u001b[39m]]\n\u001b[1;32m----> 4\u001b[0m scaled_new_data \u001b[38;5;241m=\u001b[39m X_scaler\u001b[38;5;241m.\u001b[39mtransform(new_data)\n\u001b[0;32m      6\u001b[0m new_prediction \u001b[38;5;241m=\u001b[39m model\u001b[38;5;241m.\u001b[39mpredict(scaled_new_data)\n\u001b[0;32m      7\u001b[0m new_prediction\n",
      "File \u001b[1;32m~\\anaconda3\\Lib\\site-packages\\sklearn\\utils\\_set_output.py:140\u001b[0m, in \u001b[0;36m_wrap_method_output.<locals>.wrapped\u001b[1;34m(self, X, *args, **kwargs)\u001b[0m\n\u001b[0;32m    138\u001b[0m \u001b[38;5;129m@wraps\u001b[39m(f)\n\u001b[0;32m    139\u001b[0m \u001b[38;5;28;01mdef\u001b[39;00m \u001b[38;5;21mwrapped\u001b[39m(\u001b[38;5;28mself\u001b[39m, X, \u001b[38;5;241m*\u001b[39margs, \u001b[38;5;241m*\u001b[39m\u001b[38;5;241m*\u001b[39mkwargs):\n\u001b[1;32m--> 140\u001b[0m     data_to_wrap \u001b[38;5;241m=\u001b[39m f(\u001b[38;5;28mself\u001b[39m, X, \u001b[38;5;241m*\u001b[39margs, \u001b[38;5;241m*\u001b[39m\u001b[38;5;241m*\u001b[39mkwargs)\n\u001b[0;32m    141\u001b[0m     \u001b[38;5;28;01mif\u001b[39;00m \u001b[38;5;28misinstance\u001b[39m(data_to_wrap, \u001b[38;5;28mtuple\u001b[39m):\n\u001b[0;32m    142\u001b[0m         \u001b[38;5;66;03m# only wrap the first output for cross decomposition\u001b[39;00m\n\u001b[0;32m    143\u001b[0m         return_tuple \u001b[38;5;241m=\u001b[39m (\n\u001b[0;32m    144\u001b[0m             _wrap_data_with_container(method, data_to_wrap[\u001b[38;5;241m0\u001b[39m], X, \u001b[38;5;28mself\u001b[39m),\n\u001b[0;32m    145\u001b[0m             \u001b[38;5;241m*\u001b[39mdata_to_wrap[\u001b[38;5;241m1\u001b[39m:],\n\u001b[0;32m    146\u001b[0m         )\n",
      "File \u001b[1;32m~\\anaconda3\\Lib\\site-packages\\sklearn\\preprocessing\\_data.py:1004\u001b[0m, in \u001b[0;36mStandardScaler.transform\u001b[1;34m(self, X, copy)\u001b[0m\n\u001b[0;32m   1001\u001b[0m check_is_fitted(\u001b[38;5;28mself\u001b[39m)\n\u001b[0;32m   1003\u001b[0m copy \u001b[38;5;241m=\u001b[39m copy \u001b[38;5;28;01mif\u001b[39;00m copy \u001b[38;5;129;01mis\u001b[39;00m \u001b[38;5;129;01mnot\u001b[39;00m \u001b[38;5;28;01mNone\u001b[39;00m \u001b[38;5;28;01melse\u001b[39;00m \u001b[38;5;28mself\u001b[39m\u001b[38;5;241m.\u001b[39mcopy\n\u001b[1;32m-> 1004\u001b[0m X \u001b[38;5;241m=\u001b[39m \u001b[38;5;28mself\u001b[39m\u001b[38;5;241m.\u001b[39m_validate_data(\n\u001b[0;32m   1005\u001b[0m     X,\n\u001b[0;32m   1006\u001b[0m     reset\u001b[38;5;241m=\u001b[39m\u001b[38;5;28;01mFalse\u001b[39;00m,\n\u001b[0;32m   1007\u001b[0m     accept_sparse\u001b[38;5;241m=\u001b[39m\u001b[38;5;124m\"\u001b[39m\u001b[38;5;124mcsr\u001b[39m\u001b[38;5;124m\"\u001b[39m,\n\u001b[0;32m   1008\u001b[0m     copy\u001b[38;5;241m=\u001b[39mcopy,\n\u001b[0;32m   1009\u001b[0m     dtype\u001b[38;5;241m=\u001b[39mFLOAT_DTYPES,\n\u001b[0;32m   1010\u001b[0m     force_all_finite\u001b[38;5;241m=\u001b[39m\u001b[38;5;124m\"\u001b[39m\u001b[38;5;124mallow-nan\u001b[39m\u001b[38;5;124m\"\u001b[39m,\n\u001b[0;32m   1011\u001b[0m )\n\u001b[0;32m   1013\u001b[0m \u001b[38;5;28;01mif\u001b[39;00m sparse\u001b[38;5;241m.\u001b[39missparse(X):\n\u001b[0;32m   1014\u001b[0m     \u001b[38;5;28;01mif\u001b[39;00m \u001b[38;5;28mself\u001b[39m\u001b[38;5;241m.\u001b[39mwith_mean:\n",
      "File \u001b[1;32m~\\anaconda3\\Lib\\site-packages\\sklearn\\base.py:625\u001b[0m, in \u001b[0;36mBaseEstimator._validate_data\u001b[1;34m(self, X, y, reset, validate_separately, cast_to_ndarray, **check_params)\u001b[0m\n\u001b[0;32m    622\u001b[0m     out \u001b[38;5;241m=\u001b[39m X, y\n\u001b[0;32m    624\u001b[0m \u001b[38;5;28;01mif\u001b[39;00m \u001b[38;5;129;01mnot\u001b[39;00m no_val_X \u001b[38;5;129;01mand\u001b[39;00m check_params\u001b[38;5;241m.\u001b[39mget(\u001b[38;5;124m\"\u001b[39m\u001b[38;5;124mensure_2d\u001b[39m\u001b[38;5;124m\"\u001b[39m, \u001b[38;5;28;01mTrue\u001b[39;00m):\n\u001b[1;32m--> 625\u001b[0m     \u001b[38;5;28mself\u001b[39m\u001b[38;5;241m.\u001b[39m_check_n_features(X, reset\u001b[38;5;241m=\u001b[39mreset)\n\u001b[0;32m    627\u001b[0m \u001b[38;5;28;01mreturn\u001b[39;00m out\n",
      "File \u001b[1;32m~\\anaconda3\\Lib\\site-packages\\sklearn\\base.py:414\u001b[0m, in \u001b[0;36mBaseEstimator._check_n_features\u001b[1;34m(self, X, reset)\u001b[0m\n\u001b[0;32m    411\u001b[0m     \u001b[38;5;28;01mreturn\u001b[39;00m\n\u001b[0;32m    413\u001b[0m \u001b[38;5;28;01mif\u001b[39;00m n_features \u001b[38;5;241m!=\u001b[39m \u001b[38;5;28mself\u001b[39m\u001b[38;5;241m.\u001b[39mn_features_in_:\n\u001b[1;32m--> 414\u001b[0m     \u001b[38;5;28;01mraise\u001b[39;00m \u001b[38;5;167;01mValueError\u001b[39;00m(\n\u001b[0;32m    415\u001b[0m         \u001b[38;5;124mf\u001b[39m\u001b[38;5;124m\"\u001b[39m\u001b[38;5;124mX has \u001b[39m\u001b[38;5;132;01m{\u001b[39;00mn_features\u001b[38;5;132;01m}\u001b[39;00m\u001b[38;5;124m features, but \u001b[39m\u001b[38;5;132;01m{\u001b[39;00m\u001b[38;5;28mself\u001b[39m\u001b[38;5;241m.\u001b[39m\u001b[38;5;18m__class__\u001b[39m\u001b[38;5;241m.\u001b[39m\u001b[38;5;18m__name__\u001b[39m\u001b[38;5;132;01m}\u001b[39;00m\u001b[38;5;124m \u001b[39m\u001b[38;5;124m\"\u001b[39m\n\u001b[0;32m    416\u001b[0m         \u001b[38;5;124mf\u001b[39m\u001b[38;5;124m\"\u001b[39m\u001b[38;5;124mis expecting \u001b[39m\u001b[38;5;132;01m{\u001b[39;00m\u001b[38;5;28mself\u001b[39m\u001b[38;5;241m.\u001b[39mn_features_in_\u001b[38;5;132;01m}\u001b[39;00m\u001b[38;5;124m features as input.\u001b[39m\u001b[38;5;124m\"\u001b[39m\n\u001b[0;32m    417\u001b[0m     )\n",
      "\u001b[1;31mValueError\u001b[0m: X has 7 features, but StandardScaler is expecting 5 features as input."
     ]
    }
   ],
   "source": [
    "# Actual value = 3.96 as of 12/18/2023\n",
    "new_data = [[91.348541, 94.037025, 93.682724, 460.124451, 363.876282, 183.589996, 12.630000]]\n",
    "\n",
    "scaled_new_data = X_scaler.transform(new_data)\n",
    "\n",
    "new_prediction = model.predict(scaled_new_data)\n",
    "new_prediction"
   ]
  },
  {
   "cell_type": "code",
   "execution_count": 26,
   "id": "4d59b4e4",
   "metadata": {},
   "outputs": [
    {
     "data": {
      "text/plain": [
       "array([[ 73.19608846,  38.79708249,  64.57882982, 122.11094014,\n",
       "         83.73644738,  92.4296289 ,  -0.93428998]])"
      ]
     },
     "execution_count": 26,
     "metadata": {},
     "output_type": "execute_result"
    }
   ],
   "source": [
    "scaled_new_data"
   ]
  },
  {
   "cell_type": "code",
   "execution_count": null,
   "id": "45b36e44",
   "metadata": {},
   "outputs": [],
   "source": []
  },
  {
   "cell_type": "code",
   "execution_count": null,
   "id": "a8728bb3",
   "metadata": {},
   "outputs": [],
   "source": []
  },
  {
   "cell_type": "markdown",
   "id": "bb88228a",
   "metadata": {},
   "source": [
    "###### Using PCA Variables"
   ]
  },
  {
   "cell_type": "code",
   "execution_count": null,
   "id": "ee15f3dc",
   "metadata": {},
   "outputs": [],
   "source": [
    "from sklearn.decomposition import PCA\n",
    "pca = PCA(n_components=5, whiten=True).fit(five_day_X)\n",
    "five_day_X_pca = pca.transform(five_day_X)"
   ]
  },
  {
   "cell_type": "code",
   "execution_count": null,
   "id": "7bf59c65",
   "metadata": {},
   "outputs": [],
   "source": [
    "print(pca.components_)"
   ]
  },
  {
   "cell_type": "code",
   "execution_count": null,
   "id": "1674da11",
   "metadata": {},
   "outputs": [],
   "source": [
    "print(pca.explained_variance_ratio_)\n",
    "print(sum(pca.explained_variance_ratio_))"
   ]
  },
  {
   "cell_type": "code",
   "execution_count": null,
   "id": "9605e850",
   "metadata": {},
   "outputs": [],
   "source": [
    "from sklearn.linear_model import LinearRegression\n",
    "model_pca = LinearRegression()\n",
    "\n",
    "# Fitting our model with all of our features in X\n",
    "model_pca.fit(five_day_X_pca, five_day_y)\n",
    "\n",
    "score_pca = model_pca.score(five_day_X_pca, five_day_y)\n",
    "print(f\"R2 Score: {score_pca}\")"
   ]
  },
  {
   "cell_type": "code",
   "execution_count": null,
   "id": "1a011e2d",
   "metadata": {},
   "outputs": [],
   "source": [
    "predictions_pca = model_pca.predict(five_day_X_pca)\n",
    "# Plot Residuals\n",
    "plt.scatter(predictions_pca, predictions_pca - five_day_y)\n",
    "plt.hlines(y=0, xmin=predictions_pca.min(), xmax=predictions_pca.max())\n",
    "plt.show()"
   ]
  },
  {
   "cell_type": "code",
   "execution_count": null,
   "id": "7f7df15c",
   "metadata": {},
   "outputs": [],
   "source": [
    "new_data_pca = PCA(n_components=5, whiten=True).fit(five_day_X)\n",
    "new_data_X_pca = new_data_pca.transform(new_data)"
   ]
  },
  {
   "cell_type": "code",
   "execution_count": null,
   "id": "6ea99d92",
   "metadata": {},
   "outputs": [],
   "source": [
    "pca_prediction = model_pca.predict(new_data_X_pca)\n",
    "pca_prediction"
   ]
  },
  {
   "cell_type": "code",
   "execution_count": null,
   "id": "50736c31",
   "metadata": {},
   "outputs": [],
   "source": []
  },
  {
   "cell_type": "markdown",
   "id": "5b0f0d41",
   "metadata": {},
   "source": [
    "### Support Vector Machine"
   ]
  },
  {
   "cell_type": "code",
   "execution_count": null,
   "id": "1fee08a3",
   "metadata": {},
   "outputs": [],
   "source": [
    "# Split data into training and testing\n",
    "from sklearn.model_selection import train_test_split\n",
    "\n",
    "X_train, X_test, y_train, y_test = train_test_split(five_day_X, five_day_y, random_state=1, test_size=0.2)\n",
    "print(five_day_X.shape, five_day_y.shape)"
   ]
  },
  {
   "cell_type": "code",
   "execution_count": null,
   "id": "f1bfca2d",
   "metadata": {},
   "outputs": [],
   "source": [
    "X_train"
   ]
  },
  {
   "cell_type": "code",
   "execution_count": null,
   "id": "88dd314e",
   "metadata": {},
   "outputs": [],
   "source": [
    "# Import the Support Vector Regressor\n",
    "from sklearn.svm import SVR \n",
    "\n",
    "# Fit to the training data and validate with the test data\n",
    "svm_model = SVR(kernel='linear')\n",
    "svm_model.fit(X_train, y_train)\n",
    "svm_predictions = svm_model.predict(X_test)"
   ]
  },
  {
   "cell_type": "code",
   "execution_count": null,
   "id": "7a172679",
   "metadata": {},
   "outputs": [],
   "source": [
    "# Model Accuracy\n",
    "print('Test Acc: %.3f' % svm_model.score(X_test, y_test))"
   ]
  },
  {
   "cell_type": "code",
   "execution_count": null,
   "id": "ae97e65f",
   "metadata": {},
   "outputs": [],
   "source": [
    "y_test"
   ]
  },
  {
   "cell_type": "code",
   "execution_count": null,
   "id": "c3eedb25",
   "metadata": {},
   "outputs": [],
   "source": [
    "svm_prediction = svm_model.predict(new_data)\n",
    "svm_prediction"
   ]
  },
  {
   "cell_type": "code",
   "execution_count": null,
   "id": "49be1edf",
   "metadata": {},
   "outputs": [],
   "source": [
    "d = [[91.308655, 94.236389, 93.672745, 460.200012, 363.119995, 185.639999, 12.350000, 4.245]]\n",
    "p = svm_model.predict(d)\n",
    "p"
   ]
  },
  {
   "cell_type": "code",
   "execution_count": null,
   "id": "07b9e53b",
   "metadata": {},
   "outputs": [],
   "source": []
  }
 ],
 "metadata": {
  "kernelspec": {
   "display_name": "Python 3 (ipykernel)",
   "language": "python",
   "name": "python3"
  },
  "language_info": {
   "codemirror_mode": {
    "name": "ipython",
    "version": 3
   },
   "file_extension": ".py",
   "mimetype": "text/x-python",
   "name": "python",
   "nbconvert_exporter": "python",
   "pygments_lexer": "ipython3",
   "version": "3.11.5"
  }
 },
 "nbformat": 4,
 "nbformat_minor": 5
}
