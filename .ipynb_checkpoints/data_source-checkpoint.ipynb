{
 "cells": [
  {
   "cell_type": "code",
   "execution_count": 10,
   "id": "5511e5cd",
   "metadata": {},
   "outputs": [],
   "source": [
    "import pandas as pd\n",
    "import numpy as np\n",
    "import math\n",
    "import scipy.stats as stats\n",
    "import json\n",
    "import requests\n",
    "\n",
    "from functools import reduce\n",
    "import yfinance as yf\n",
    "\n",
    "import datetime as dt\n",
    "from datetime import datetime, date, time, timedelta\n",
    "from dateutil.relativedelta import relativedelta\n",
    "\n",
    "# Import PlotLy Dependencies\n",
    "import plotly.graph_objects as go\n",
    "from plotly.subplots import make_subplots\n",
    "import plotly.express as px"
   ]
  },
  {
   "cell_type": "code",
   "execution_count": 1,
   "id": "27f4ce32",
   "metadata": {},
   "outputs": [],
   "source": [
    "# Setup FRED API Connection\n",
    "base_url = \"https://api.stlouisfed.org/fred/series/observations?series_id=\"\n",
    "fred_api_key = \"YOUR FRED API KEY HERE\"\n",
    "\n",
    "# print(fred_api_key)"
   ]
  },
  {
   "cell_type": "code",
   "execution_count": 7,
   "id": "c1f35e06",
   "metadata": {},
   "outputs": [],
   "source": [
    "# Function to get data from FRED\n",
    "\n",
    "def fred_api_function (series):\n",
    "    \n",
    "    query_url = base_url + series + \"&api_key=\" + fred_api_key + \"&file_type=json\"\n",
    "    \n",
    "    fred_response = requests.get(query_url).json()\n",
    "    number_of_observations = []\n",
    "\n",
    "    for count in range(fred_response[\"count\"]):\n",
    "        number_of_observations.append(count)\n",
    "\n",
    "    date_list = []\n",
    "    value_list = []\n",
    "\n",
    "\n",
    "    for i in number_of_observations:\n",
    "\n",
    "        \n",
    "        if fred_response[\"observations\"][i][\"value\"] == \".\":\n",
    "            next\n",
    "        else: \n",
    "            date_list.append(fred_response[\"observations\"][i][\"date\"])\n",
    "            value_list.append(float(fred_response[\"observations\"][i][\"value\"]))\n",
    "\n",
    "\n",
    "    function_dict = {\"Date\": date_list,\n",
    "                     \"Value\": value_list}\n",
    "\n",
    "    return function_dict"
   ]
  },
  {
   "cell_type": "code",
   "execution_count": 8,
   "id": "b1aab5a0",
   "metadata": {},
   "outputs": [],
   "source": [
    "# Function to get data from Yahoo Finance\n",
    "\n",
    "def yahoo_finance_function (ticker):\n",
    "    \n",
    "    ticker_data = yf.download(ticker).reset_index()\n",
    "    \n",
    "    function_dict = {\"Date\": ticker_data[\"Date\"],\n",
    "                     \"Value\": ticker_data[\"Adj Close\"]}\n",
    "    return function_dict\n"
   ]
  },
  {
   "cell_type": "code",
   "execution_count": null,
   "id": "051e65f0",
   "metadata": {},
   "outputs": [],
   "source": []
  }
 ],
 "metadata": {
  "kernelspec": {
   "display_name": "Python 3 (ipykernel)",
   "language": "python",
   "name": "python3"
  },
  "language_info": {
   "codemirror_mode": {
    "name": "ipython",
    "version": 3
   },
   "file_extension": ".py",
   "mimetype": "text/x-python",
   "name": "python",
   "nbconvert_exporter": "python",
   "pygments_lexer": "ipython3",
   "version": "3.11.5"
  }
 },
 "nbformat": 4,
 "nbformat_minor": 5
}
